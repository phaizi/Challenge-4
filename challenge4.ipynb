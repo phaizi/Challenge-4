{
 "cells": [
  {
   "cell_type": "code",
   "execution_count": 1,
   "metadata": {},
   "outputs": [],
   "source": [
    "def rang_ext(lst):\n",
    "    strng = \"\"\n",
    "    not_rang=0\n",
    "    rang_cont = \"n\"\n",
    "    first = \"y\"\n",
    "    for i in range(0,len(lst)-2):\n",
    "        if lst[i+2] - lst[i+1] == 1 and lst[i+1] - lst[i] ==1:\n",
    "            first = \"n\"\n",
    "            not_rang = 0\n",
    "            if rang_cont == \"n\":\n",
    "                r_start = lst[i]\n",
    "                r_end = lst[i+2]\n",
    "                rang_cont = \"y\"\n",
    "            else:\n",
    "                r_end = lst[i+2]\n",
    "            if i < len(lst)-3:\n",
    "                if lst[i+3]-lst[i+2] != 1:\n",
    "                    strng += str(r_start) + \"-\" + str(r_end) + \",\"\n",
    "                    rang_cont = \"n\"\n",
    "            else:\n",
    "                strng += str(r_start) + \"-\" + str(r_end)\n",
    "        else:\n",
    "            if first == \"y\":\n",
    "                strng += str(lst[i]) + \",\"          \n",
    "            else:\n",
    "                not_rang += 1\n",
    "                if not_rang > 2:\n",
    "                    strng += str(lst[i]) + \",\"\n",
    "            if i == len(lst)-3 and lst[-4] - lst[-3] == 1 and lst[-3] - lst[-2] == 1:\n",
    "                string += str(lst[-1])\n",
    "            elif i == len(lst)-3:\n",
    "                strng += str(lst[-2]) + \",\" + str(lst[-1])   \n",
    "    print(strng)"
   ]
  },
  {
   "cell_type": "code",
   "execution_count": 2,
   "metadata": {},
   "outputs": [
    {
     "name": "stdout",
     "output_type": "stream",
     "text": [
      "-6,-3-1,3-5,7-11,14,15,17-20\n",
      "-76,-75,-72,-69--67,-65,-62,-60,-57--55,-52,-51,-48,-45--40,-37,-35,-33,-32,-29,-28\n"
     ]
    }
   ],
   "source": [
    "c=[-6,-3,-2,-1,0,1,3,4,5,7,8,9,10,11,14,15,17,18,19,20]\n",
    "rang_ext(c)\n",
    "d=[-76,-75,-72,-69,-68,-67,-65,-62,-60,-57,-56,-55,-52,-51,-48,-45,-44,-43,-42,-41,-40,-37,-35,-33,-32,-29,-28]\n",
    "rang_ext(d)"
   ]
  },
  {
   "cell_type": "code",
   "execution_count": null,
   "metadata": {},
   "outputs": [],
   "source": []
  }
 ],
 "metadata": {
  "kernelspec": {
   "display_name": "Python 3",
   "language": "python",
   "name": "python3"
  },
  "language_info": {
   "codemirror_mode": {
    "name": "ipython",
    "version": 3
   },
   "file_extension": ".py",
   "mimetype": "text/x-python",
   "name": "python",
   "nbconvert_exporter": "python",
   "pygments_lexer": "ipython3",
   "version": "3.6.7"
  }
 },
 "nbformat": 4,
 "nbformat_minor": 2
}
